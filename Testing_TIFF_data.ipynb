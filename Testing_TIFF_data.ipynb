{
  "nbformat": 4,
  "nbformat_minor": 0,
  "metadata": {
    "colab": {
      "name": "Testing TIFF data",
      "provenance": [],
      "authorship_tag": "ABX9TyPr/GCEPfEz3iwmvZdTeXn7",
      "include_colab_link": true
    },
    "kernelspec": {
      "name": "python3",
      "display_name": "Python 3"
    },
    "language_info": {
      "name": "python"
    }
  },
  "cells": [
    {
      "cell_type": "markdown",
      "metadata": {
        "id": "view-in-github",
        "colab_type": "text"
      },
      "source": [
        "<a href=\"https://colab.research.google.com/github/manuel-suarez/tiff_data/blob/main/Testing_TIFF_data.ipynb\" target=\"_parent\"><img src=\"https://colab.research.google.com/assets/colab-badge.svg\" alt=\"Open In Colab\"/></a>"
      ]
    },
    {
      "cell_type": "code",
      "execution_count": 1,
      "metadata": {
        "id": "xw1JXdfklWWv"
      },
      "outputs": [],
      "source": [
        "import tifffile as tif"
      ]
    },
    {
      "cell_type": "code",
      "source": [
        "filename = \"sample.tif\"\n",
        "image = tif.imread(filename)\n",
        "image.shape"
      ],
      "metadata": {
        "colab": {
          "base_uri": "https://localhost:8080/"
        },
        "id": "R3-5dyBslooT",
        "outputId": "d79a9b6f-c0d1-4dc4-bba5-ef54c061e830"
      },
      "execution_count": 23,
      "outputs": [
        {
          "output_type": "execute_result",
          "data": {
            "text/plain": [
              "(4, 1010, 3601)"
            ]
          },
          "metadata": {},
          "execution_count": 23
        }
      ]
    },
    {
      "cell_type": "code",
      "source": [
        "filename = \"result_vh.tif\"\n",
        "image = tif.imread(filename)\n",
        "image.shape"
      ],
      "metadata": {
        "colab": {
          "base_uri": "https://localhost:8080/"
        },
        "id": "BuPNa-u1luV5",
        "outputId": "5f566fae-2817-4798-fd24-e29d42d5cf16"
      },
      "execution_count": 25,
      "outputs": [
        {
          "output_type": "execute_result",
          "data": {
            "text/plain": [
              "(1010, 3601)"
            ]
          },
          "metadata": {},
          "execution_count": 25
        }
      ]
    },
    {
      "cell_type": "code",
      "source": [
        "filename = \"result_vv.tif\"\n",
        "image = tif.imread(filename)\n",
        "image.shape"
      ],
      "metadata": {
        "colab": {
          "base_uri": "https://localhost:8080/"
        },
        "id": "8XIGHQlfoh7G",
        "outputId": "45cbfaac-d7dc-43bc-a8a7-51eb0c692bc6"
      },
      "execution_count": 26,
      "outputs": [
        {
          "output_type": "execute_result",
          "data": {
            "text/plain": [
              "(1010, 3601)"
            ]
          },
          "metadata": {},
          "execution_count": 26
        }
      ]
    },
    {
      "cell_type": "code",
      "source": [
        "import os\n",
        "dname = \"sar_images\"\n",
        "for fname in os.listdir(dname):\n",
        "  image = tif.imread(os.path.join(dname, fname))\n",
        "  print(fname, image.shape)"
      ],
      "metadata": {
        "colab": {
          "base_uri": "https://localhost:8080/"
        },
        "id": "u5XNAk9Qmwoq",
        "outputId": "4391d323-c698-4314-9ecd-5c334974926f"
      },
      "execution_count": 27,
      "outputs": [
        {
          "output_type": "stream",
          "name": "stdout",
          "text": [
            "S1A_IW_GRDH_1SDV_20220211T001551_20220211T001616_041858_04FBA8_AE84.tif (940, 942)\n",
            "S1A_IW_GRDH_1SDV_20191013T001543_20191013T001608_029433_035905_358D.tif (586, 858)\n",
            "S1A_IW_GRDH_1SDV_20191001T001543_20191001T001608_029258_035306_AD27.tif (802, 1332)\n",
            "S1A_IW_GRDH_1SDV_20220312T002412_20220312T002437_042281_050A25_5727.tif (1820, 1668)\n",
            "S1A_IW_GRDH_1SDV_20191106T001543_20191106T001608_029783_036530_13B0.tif (2176, 3360)\n"
          ]
        }
      ]
    }
  ]
}