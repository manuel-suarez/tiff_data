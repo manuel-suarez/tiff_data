{
  "nbformat": 4,
  "nbformat_minor": 0,
  "metadata": {
    "colab": {
      "name": "Testing TIFF data",
      "provenance": [],
      "authorship_tag": "ABX9TyMUPlAZRNXRxJY7s53/4Rdw",
      "include_colab_link": true
    },
    "kernelspec": {
      "name": "python3",
      "display_name": "Python 3"
    },
    "language_info": {
      "name": "python"
    }
  },
  "cells": [
    {
      "cell_type": "markdown",
      "metadata": {
        "id": "view-in-github",
        "colab_type": "text"
      },
      "source": [
        "<a href=\"https://colab.research.google.com/github/manuel-suarez/tiff_data/blob/main/Testing_TIFF_data.ipynb\" target=\"_parent\"><img src=\"https://colab.research.google.com/assets/colab-badge.svg\" alt=\"Open In Colab\"/></a>"
      ]
    },
    {
      "cell_type": "code",
      "execution_count": 1,
      "metadata": {
        "id": "xw1JXdfklWWv"
      },
      "outputs": [],
      "source": [
        "import tifffile as tif"
      ]
    },
    {
      "cell_type": "code",
      "source": [
        "filename = \"result_vh.tif\"\n",
        "image = tif.imread(filename)"
      ],
      "metadata": {
        "id": "R3-5dyBslooT"
      },
      "execution_count": 5,
      "outputs": []
    },
    {
      "cell_type": "code",
      "source": [
        "image.shape"
      ],
      "metadata": {
        "colab": {
          "base_uri": "https://localhost:8080/"
        },
        "id": "BuPNa-u1luV5",
        "outputId": "fcde897c-d26d-4a04-97f5-c6f40e93cc5d"
      },
      "execution_count": 6,
      "outputs": [
        {
          "output_type": "execute_result",
          "data": {
            "text/plain": [
              "(1010, 3601)"
            ]
          },
          "metadata": {},
          "execution_count": 6
        }
      ]
    },
    {
      "cell_type": "code",
      "source": [
        ""
      ],
      "metadata": {
        "id": "mLnuPpa_lrfz"
      },
      "execution_count": null,
      "outputs": []
    }
  ]
}